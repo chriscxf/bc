{
 "cells": [
  {
   "cell_type": "code",
   "execution_count": 1,
   "metadata": {},
   "outputs": [],
   "source": [
    "from sklearn.model_selection import train_test_split\n",
    "import numpy as np\n",
    "import math\n",
    "from torch.utils.data import DataLoader, Dataset\n",
    "import torch\n",
    "import matplotlib.pyplot as plt\n",
    "\n",
    "from _basicClasses import TimeSeriesDatasetSingleSubject, GlobalModel, LocalModel\n",
    "from _train_pred import predict, evaluate, train, split_dataset"
   ]
  },
  {
   "cell_type": "code",
   "execution_count": 2,
   "metadata": {},
   "outputs": [],
   "source": [
    "K = 5  # Number of final factors \n",
    "# Parameters for the dataset\n",
    "# J = 5 # Number of subjects\n",
    "D = 5   # Number of features\n",
    "T = 150   # Number of time points\n",
    "C = 2   # Number of categorical variables\n",
    "C_levels = 3\n",
    "num_epochs = 100  # Number of epochs for training\n",
    "hidden_size_global = 100 \n",
    "hidden_size_local = 5\n",
    "train_ratio=.8\n",
    "batch_size = 32"
   ]
  },
  {
   "cell_type": "code",
   "execution_count": 3,
   "metadata": {},
   "outputs": [],
   "source": [
    "# time[:6]"
   ]
  },
  {
   "cell_type": "code",
   "execution_count": 4,
   "metadata": {},
   "outputs": [
    {
     "name": "stdout",
     "output_type": "stream",
     "text": [
      "tensor([0, 0, 0, 0, 0, 0, 0, 0, 0, 0, 0, 0, 0, 0, 0, 0, 0, 0, 0, 0, 0, 0, 0, 0,\n",
      "        0, 0, 0, 0, 0, 0], dtype=torch.int32)\n"
     ]
    }
   ],
   "source": [
    "\n",
    "torch.manual_seed(19)\n",
    "\n",
    "# Generate time-dependent patient features\n",
    "time = torch.arange(1, T+1).float() / 50  # Normalize time for smoother variations\n",
    "X = torch.zeros(T, D)\n",
    "\n",
    "# time-dependent patterns for features\n",
    "for d in range(D):\n",
    "    # Linear trend + sine wave pattern to simulate periodic changes (e.g., seasonal effects)\n",
    "    X[:, d] = .5 * d * time +  torch.sin(2 * math.pi * time / max(10, d + 1)) + torch.randn(T) * 0.1\n",
    "\n",
    "# Categorical Variables\n",
    "gender = torch.randint(0, 3, (T, 1))  # Three categories for gender\n",
    "country = torch.randint(0, 3, (T, 1))  # Three countries\n",
    "cat_vars = torch.cat([gender, country], dim=1)\n",
    "\n",
    "# # Adjusting Y for categorical variables and time\n",
    "base_bp_gender = torch.tensor([0.0, 5.0, 3.0]).float()\n",
    "\n",
    "binary_event = (1/(1 + torch.exp( -(1*X[:,0] + .5* X[:,2] -1* X[:,3]) -   .6* base_bp_gender[gender].squeeze() )) > .9).int()\n",
    "# binary_event = (abs(X[:, 2] + X[:, 3] + X[:, 0]) > 3.5).int()\n",
    "weights_X = torch.randn(D) * .1\n",
    "# Y = torch.matmul(X, weights_X)* 10  + torch.randn(T)*.1 + .1 * base_bp_gender[gender].squeeze()\n",
    "\n",
    "# X -= X.mean(dim=0)\n",
    "# X /= X.std(dim=0)\n",
    "\n",
    "Y  = X[:, 0]\n",
    "\n",
    "\n",
    "# Binary event based on a threshold\n",
    "threshold = 0\n",
    "# binary_event = (abs(Y) > threshold).int()\n",
    "\n",
    "# Assuming TimeSeriesDatasetSingleSubject is defined appropriately elsewhere\n",
    "dataset = TimeSeriesDatasetSingleSubject(X, Y, cat_vars, binary_event, input_window_size=24, output_window_size=24)\n",
    "print(binary_event[-30:])"
   ]
  },
  {
   "cell_type": "code",
   "execution_count": 5,
   "metadata": {},
   "outputs": [
    {
     "name": "stdout",
     "output_type": "stream",
     "text": [
      "torch.Size([150])\n",
      "torch.Size([150, 2])\n",
      "torch.Size([150])\n"
     ]
    }
   ],
   "source": [
    "print(binary_event.shape)\n",
    "print(cat_vars.shape)\n",
    "print(Y.shape)"
   ]
  },
  {
   "cell_type": "code",
   "execution_count": 6,
   "metadata": {},
   "outputs": [
    {
     "name": "stdout",
     "output_type": "stream",
     "text": [
      "tensor([0.0628, 0.1257, 0.1885, 0.2512, 0.3140])\n",
      "tensor([-0.0236,  0.0333,  0.1224,  0.1186,  0.1162])\n",
      "tensor([0.0800, 0.1600, 0.2400, 0.3200, 0.4000])\n"
     ]
    }
   ],
   "source": [
    "print(5*torch.sin(2 * math.pi * time / max(10, d + 1))[:5])\n",
    "print(torch.randn(T)[:5]/10)\n",
    "print( 1* d * time[:5] )"
   ]
  },
  {
   "cell_type": "code",
   "execution_count": 7,
   "metadata": {},
   "outputs": [
    {
     "name": "stdout",
     "output_type": "stream",
     "text": [
      "tensor([-0.5943, -0.3270, -0.2568, -0.3343, -0.6839])\n"
     ]
    },
    {
     "data": {
      "text/plain": [
       "tensor([-0.2475,  0.1200,  0.0568, -0.1731, -0.0173])"
      ]
     },
     "execution_count": 7,
     "metadata": {},
     "output_type": "execute_result"
    }
   ],
   "source": [
    "# Y.shape\n",
    "print(torch.matmul(X, weights_X)[:5]*10)\n",
    "torch.randn(T)[:5]*.1"
   ]
  },
  {
   "cell_type": "code",
   "execution_count": 8,
   "metadata": {},
   "outputs": [],
   "source": [
    "\n",
    "train_dataset, test_dataset = split_dataset(dataset, r=0.4)\n",
    "\n",
    "train_dataloader = DataLoader(train_dataset, batch_size=batch_size, shuffle=True)\n",
    "test_dataloader = DataLoader(test_dataset, batch_size=batch_size, shuffle=False)\n",
    "\n"
   ]
  },
  {
   "cell_type": "code",
   "execution_count": 9,
   "metadata": {},
   "outputs": [],
   "source": [
    "# Assuming the model instances are created like this:\n",
    "global_model = GlobalModel(D, hidden_size_global, K, output_window_size= 24)\n",
    "\n",
    "# 1 + num_categorical_features: \n",
    "local_model = LocalModel(1 + C, hidden_size_local, output_window_size= 24)\n",
    "\n",
    "# event_model = EventModel(C, hidden_dim= 10)\n",
    "# event_model = EventModel(1 + C, hidden_size_local)\n",
    "\n",
    "optimizer = torch.optim.Adam(list(global_model.parameters()) + list(local_model.parameters()), lr=0.005)\n"
   ]
  },
  {
   "cell_type": "code",
   "execution_count": 10,
   "metadata": {},
   "outputs": [
    {
     "name": "stdout",
     "output_type": "stream",
     "text": [
      "Epoch 1, Train Loss: 3.9144, Test Loss: 2.0254\n",
      "Epoch 2, Train Loss: 2.0230, Test Loss: 2.4730\n",
      "Epoch 3, Train Loss: 1.5267, Test Loss: 2.6276\n",
      "Epoch 4, Train Loss: 1.3344, Test Loss: 2.4152\n",
      "Epoch 5, Train Loss: 1.4067, Test Loss: 2.4984\n",
      "Epoch 6, Train Loss: 1.3807, Test Loss: 2.8599\n",
      "Epoch 7, Train Loss: 1.2931, Test Loss: 3.2815\n",
      "Epoch 8, Train Loss: 1.2942, Test Loss: 3.0763\n",
      "Epoch 9, Train Loss: 1.2728, Test Loss: 2.5790\n",
      "Epoch 10, Train Loss: 1.2567, Test Loss: 2.2851\n",
      "Epoch 11, Train Loss: 1.2644, Test Loss: 2.2658\n",
      "Epoch 12, Train Loss: 1.2521, Test Loss: 2.4641\n",
      "Epoch 13, Train Loss: 1.2256, Test Loss: 2.7664\n",
      "Epoch 14, Train Loss: 1.2135, Test Loss: 2.9373\n",
      "Epoch 15, Train Loss: 1.2064, Test Loss: 2.8480\n",
      "Epoch 16, Train Loss: 1.1884, Test Loss: 2.6335\n",
      "Epoch 17, Train Loss: 1.1758, Test Loss: 2.4706\n",
      "Epoch 18, Train Loss: 1.1673, Test Loss: 2.4284\n",
      "Epoch 19, Train Loss: 1.1513, Test Loss: 2.4895\n",
      "Epoch 20, Train Loss: 1.1358, Test Loss: 2.5555\n",
      "Epoch 21, Train Loss: 1.1252, Test Loss: 2.5157\n",
      "Epoch 22, Train Loss: 1.1090, Test Loss: 2.3857\n",
      "Epoch 23, Train Loss: 1.0894, Test Loss: 2.2669\n",
      "Epoch 24, Train Loss: 1.0747, Test Loss: 2.2177\n",
      "Epoch 25, Train Loss: 1.0591, Test Loss: 2.2334\n",
      "Epoch 26, Train Loss: 1.0392, Test Loss: 2.2676\n",
      "Epoch 27, Train Loss: 1.0210, Test Loss: 2.2427\n",
      "Epoch 28, Train Loss: 1.0037, Test Loss: 2.1279\n",
      "Epoch 29, Train Loss: 0.9828, Test Loss: 1.9947\n",
      "Epoch 30, Train Loss: 0.9623, Test Loss: 1.9329\n",
      "Epoch 31, Train Loss: 0.9416, Test Loss: 1.9662\n",
      "Epoch 32, Train Loss: 0.9170, Test Loss: 2.0227\n",
      "Epoch 33, Train Loss: 0.8939, Test Loss: 1.9878\n",
      "Epoch 34, Train Loss: 0.8693, Test Loss: 1.9011\n",
      "Epoch 35, Train Loss: 0.8462, Test Loss: 1.9810\n",
      "Epoch 36, Train Loss: 0.8194, Test Loss: 1.9668\n",
      "Epoch 37, Train Loss: 0.7924, Test Loss: 1.8572\n",
      "Epoch 38, Train Loss: 0.7652, Test Loss: 1.8941\n",
      "Epoch 39, Train Loss: 0.7361, Test Loss: 1.8609\n",
      "Epoch 40, Train Loss: 0.7064, Test Loss: 1.7282\n",
      "Epoch 41, Train Loss: 0.6769, Test Loss: 1.7618\n",
      "Epoch 42, Train Loss: 0.6459, Test Loss: 1.7588\n",
      "Epoch 43, Train Loss: 0.6146, Test Loss: 1.6662\n",
      "Epoch 44, Train Loss: 0.5839, Test Loss: 1.7849\n",
      "Epoch 45, Train Loss: 0.5533, Test Loss: 1.6500\n",
      "Epoch 46, Train Loss: 0.5216, Test Loss: 1.8132\n",
      "Epoch 47, Train Loss: 0.4909, Test Loss: 1.7273\n",
      "Epoch 48, Train Loss: 0.4634, Test Loss: 2.0354\n",
      "Epoch 49, Train Loss: 0.4533, Test Loss: 1.9880\n",
      "Epoch 50, Train Loss: 0.5086, Test Loss: 2.9705\n",
      "Epoch 51, Train Loss: 0.4602, Test Loss: 2.6131\n",
      "Epoch 52, Train Loss: 0.3380, Test Loss: 2.8239\n",
      "Epoch 53, Train Loss: 0.3666, Test Loss: 4.0552\n",
      "Epoch 54, Train Loss: 0.2924, Test Loss: 4.5200\n",
      "Epoch 55, Train Loss: 0.2989, Test Loss: 4.2620\n",
      "Epoch 56, Train Loss: 0.2384, Test Loss: 5.1978\n",
      "Epoch 57, Train Loss: 0.2380, Test Loss: 4.2999\n",
      "Epoch 58, Train Loss: 0.2007, Test Loss: 6.0385\n",
      "Epoch 59, Train Loss: 0.2095, Test Loss: 4.5290\n",
      "Epoch 60, Train Loss: 0.2239, Test Loss: 5.0574\n",
      "Epoch 61, Train Loss: 0.1859, Test Loss: 5.7776\n",
      "Epoch 62, Train Loss: 0.1506, Test Loss: 3.6905\n",
      "Epoch 63, Train Loss: 0.0747, Test Loss: 4.1799\n",
      "Epoch 64, Train Loss: 0.0839, Test Loss: 4.2443\n",
      "Epoch 65, Train Loss: 0.0313, Test Loss: 4.5029\n",
      "Epoch 66, Train Loss: 0.0246, Test Loss: 2.9896\n",
      "Epoch 67, Train Loss: -0.0255, Test Loss: 3.8184\n",
      "Epoch 68, Train Loss: -0.0380, Test Loss: 3.5559\n",
      "Epoch 69, Train Loss: -0.0864, Test Loss: 4.2757\n",
      "Epoch 70, Train Loss: -0.1090, Test Loss: 4.6448\n",
      "Epoch 71, Train Loss: -0.1516, Test Loss: 4.8545\n",
      "Epoch 72, Train Loss: -0.1755, Test Loss: 5.3873\n",
      "Epoch 73, Train Loss: -0.2087, Test Loss: 6.7704\n",
      "Epoch 74, Train Loss: -0.2416, Test Loss: 8.1793\n",
      "Epoch 75, Train Loss: -0.2562, Test Loss: 9.9059\n",
      "Epoch 76, Train Loss: -0.2599, Test Loss: 8.7996\n",
      "Epoch 77, Train Loss: -0.0515, Test Loss: 13.6060\n",
      "Epoch 78, Train Loss: 0.3714, Test Loss: 10.7109\n",
      "Epoch 79, Train Loss: -0.3379, Test Loss: 13.9943\n",
      "Epoch 80, Train Loss: -0.0343, Test Loss: 12.8368\n",
      "Epoch 81, Train Loss: -0.2761, Test Loss: 13.7623\n",
      "Epoch 82, Train Loss: -0.2763, Test Loss: 14.8006\n",
      "Epoch 83, Train Loss: -0.2321, Test Loss: 15.2312\n",
      "Epoch 84, Train Loss: -0.3334, Test Loss: 18.2121\n",
      "Epoch 85, Train Loss: -0.3741, Test Loss: 19.9441\n",
      "Epoch 86, Train Loss: -0.3694, Test Loss: 19.1022\n",
      "Epoch 87, Train Loss: -0.4076, Test Loss: 22.8048\n",
      "Epoch 88, Train Loss: -0.4225, Test Loss: 19.7951\n",
      "Epoch 89, Train Loss: -0.4554, Test Loss: 19.9525\n",
      "Epoch 90, Train Loss: -0.5128, Test Loss: 24.4501\n",
      "Epoch 91, Train Loss: -0.5152, Test Loss: 19.4492\n",
      "Epoch 92, Train Loss: -0.5103, Test Loss: 26.4911\n",
      "Epoch 93, Train Loss: -0.3521, Test Loss: 22.2510\n",
      "Epoch 94, Train Loss: 0.0674, Test Loss: 23.9944\n",
      "Epoch 95, Train Loss: -0.2383, Test Loss: 23.6885\n",
      "Epoch 96, Train Loss: -0.2750, Test Loss: 27.5085\n",
      "Epoch 97, Train Loss: -0.4592, Test Loss: 25.6781\n",
      "Epoch 98, Train Loss: -0.4434, Test Loss: 22.8612\n",
      "Epoch 99, Train Loss: -0.5226, Test Loss: 25.9672\n",
      "Epoch 100, Train Loss: -0.5773, Test Loss: 30.2466\n"
     ]
    }
   ],
   "source": [
    "\n",
    "# For early stopping\n",
    "patience = 10\n",
    "min_loss = float('inf')\n",
    "best_model = None\n",
    "best_epoch = 0\n",
    "\n",
    "for epoch in range(num_epochs):\n",
    "    train_loss = train(global_model, local_model, optimizer, train_dataloader)\n",
    "    test_loss = evaluate(global_model, local_model, test_dataloader)\n",
    "    print(f'Epoch {epoch+1}, Train Loss: {train_loss:.4f}, Test Loss: {test_loss:.4f}')\n"
   ]
  },
  {
   "cell_type": "markdown",
   "metadata": {},
   "source": []
  },
  {
   "cell_type": "code",
   "execution_count": 11,
   "metadata": {},
   "outputs": [
    {
     "name": "stdout",
     "output_type": "stream",
     "text": [
      "Parameter containing:\n",
      "tensor([ 0.2964,  2.7388,  1.2939,  0.6266, -0.0139], requires_grad=True)\n"
     ]
    }
   ],
   "source": [
    "W = (global_model).get_weight_matrix()\n",
    "print(W)"
   ]
  },
  {
   "cell_type": "code",
   "execution_count": 12,
   "metadata": {},
   "outputs": [
    {
     "name": "stdout",
     "output_type": "stream",
     "text": [
      "Parameter containing:\n",
      "tensor([ 0.2964,  2.7388,  1.2939,  0.6266, -0.0139], requires_grad=True)\n"
     ]
    }
   ],
   "source": [
    "A = global_model.get_weight_matrix()\n",
    "print(A)"
   ]
  },
  {
   "cell_type": "code",
   "execution_count": 13,
   "metadata": {},
   "outputs": [],
   "source": [
    "\n",
    "# Assuming you've already loaded your test DataLoader: test_dataloader\n",
    "mus, sigmas, p_collected, z_collected, true_values, binary_events  = predict(global_model, local_model, test_dataloader)\n",
    "\n",
    "# Convert to numpy for easier handling\n",
    "mus_np = mus.numpy()\n",
    "sigmas_np = sigmas.numpy()\n",
    "p_collected = p_collected.numpy()\n",
    "z_collected = z_collected.numpy()\n",
    "\n",
    "true_values_np = true_values.numpy()\n",
    "binary_events_np = binary_events.numpy()\n",
    "\n"
   ]
  },
  {
   "cell_type": "code",
   "execution_count": 14,
   "metadata": {},
   "outputs": [
    {
     "name": "stdout",
     "output_type": "stream",
     "text": [
      "[0 0 0 0 0 0 0 0 0 0 0 0 0 0 0 0 0 0 0 0 0 0 0 0]\n",
      "[0.28858435 0.29106358 0.28935114 0.29305574 0.36342752 0.42559567\n",
      " 0.3709978  0.2875702  0.36711508 0.36490637 0.43239954 0.426197\n",
      " 0.42848814 0.35586488 0.28869206 0.27876052 0.29138413 0.28518808\n",
      " 0.2105535  0.14771622 0.14527868 0.1710637  0.09785219 0.11868557]\n"
     ]
    }
   ],
   "source": [
    "# print(mus.shape, mus)\n",
    "# print(sigmas.shape, sigmas)\n",
    "# print(p_collected.shape, p_collected)\n",
    "# print(true_values)\n",
    "print(binary_events_np[-1])\n",
    "print(p_collected[-1])"
   ]
  },
  {
   "cell_type": "code",
   "execution_count": 15,
   "metadata": {},
   "outputs": [
    {
     "data": {
      "text/plain": [
       "array([ 0.48362127,  0.20827687,  1.1220617 ,  1.6578009 ,  1.7339246 ,\n",
       "        2.0278041 ,  2.5656092 ,  2.4904969 ,  1.6580582 ,  2.1345053 ,\n",
       "        0.73085845,  1.599163  ,  0.6181587 ,  2.1026785 ,  0.8000604 ,\n",
       "        1.2514184 ,  0.4018451 ,  0.13811755, -0.5508621 , -0.17220946,\n",
       "        0.3377968 ,  1.2601154 ,  1.5587052 ,  1.4542625 ], dtype=float32)"
      ]
     },
     "execution_count": 15,
     "metadata": {},
     "output_type": "execute_result"
    }
   ],
   "source": [
    "(mus_np[-1])"
   ]
  },
  {
   "cell_type": "code",
   "execution_count": 16,
   "metadata": {},
   "outputs": [
    {
     "data": {
      "text/plain": [
       "array([0.9902183 , 1.1089245 , 1.0853659 , 1.0146685 , 0.9507285 ,\n",
       "       0.9686505 , 0.94736904, 0.92133754, 0.81704485, 1.000259  ,\n",
       "       1.1016221 , 1.0246798 , 1.2400742 , 0.9420569 , 0.95880044,\n",
       "       1.0018249 , 1.0403636 , 0.9697801 , 1.0362794 , 0.889107  ,\n",
       "       0.87466097, 1.169436  , 0.92857844, 1.0416622 ], dtype=float32)"
      ]
     },
     "execution_count": 16,
     "metadata": {},
     "output_type": "execute_result"
    }
   ],
   "source": [
    "true_values_np[-1]"
   ]
  },
  {
   "cell_type": "code",
   "execution_count": 17,
   "metadata": {},
   "outputs": [
    {
     "data": {
      "text/plain": [
       "tensor([0, 0, 0, 0, 0, 0, 0, 0, 0, 0, 0, 0, 0, 0, 0, 0, 0, 0, 0, 0, 0, 0, 0, 0],\n",
       "       dtype=torch.int32)"
      ]
     },
     "execution_count": 17,
     "metadata": {},
     "output_type": "execute_result"
    }
   ],
   "source": [
    "(binary_events[-1])\n"
   ]
  },
  {
   "cell_type": "code",
   "execution_count": 18,
   "metadata": {},
   "outputs": [
    {
     "data": {
      "image/png": "[encoded data removed]",
      "text/plain": [
       "<Figure size 800x600 with 1 Axes>"
      ]
     },
     "metadata": {},
     "output_type": "display_data"
    }
   ],
   "source": [
    "mus_subject = mus_np[-1]\n",
    "sigmas_subject = sigmas_np[-1]\n",
    "true_values_subject = true_values_np[-1]\n",
    "binary_events_subject = binary_events_np[-1]\n",
    "p_subject = p_collected[-1] # Extracted probabilities\n",
    "\n",
    "\n",
    "plt.figure(figsize=(8, 6))\n",
    "plt.plot(mus_subject, label='Predicted $\\mu$', color='red')\n",
    "plt.fill_between(range(len(mus_subject)), (mus_subject - 1.96 * sigmas_subject), (mus_subject + 1.96 * sigmas_subject), color='red', alpha=0.2, label='Uncertainty ($1.96\\sigma$)')\n",
    "plt.plot(true_values_subject, label='True Values', color='blue')\n",
    "\n",
    "# Plotting the probability as a bar plot at the bottom\n",
    "bar_height = p_subject  # Scaling factor for visibility\n",
    "bar_bottom = np.min(mus_subject) -1   # Adjust bottom to avoid overlap\n",
    "plt.bar(range(len(p_subject)), bar_height,  bottom=bar_bottom, color='gray', label='Event Pred. Probability', width=0.8)\n",
    "\n",
    "for i, (value, event) in enumerate(zip(true_values_subject, binary_events_subject)):\n",
    "    if event == 1:\n",
    "        plt.plot(i, value, 'x', color='black', markersize=8, label='Event = 1' if i == 0 else \"\")\n",
    "\n",
    "plt.xticks(range(len(binary_events_subject)))\n",
    "plt.xlabel('Prediction Time Step')\n",
    "plt.ylabel('Value')\n",
    "plt.title('Model Predictions, True Values, and Probabilities')\n",
    "\n",
    "# plt.axhline(y=threshold, color='gray', linestyle='--', linewidth=1, label='Threshold')\n",
    "# Adjust y-axis limit to make space for the bar plot\n",
    "plt.ylim([np.min(bar_bottom)-.5, np.max(true_values_subject) + 1.2])\n",
    "\n",
    "# Legend\n",
    "handles, labels = plt.gca().get_legend_handles_labels()\n",
    "# Ensure unique labels\n",
    "by_label = dict(zip(labels, handles))\n",
    "plt.legend(by_label.values(), by_label.keys(), loc='upper left')\n",
    "\n",
    "plt.tight_layout()\n",
    "plt.show()\n"
   ]
  },
  {
   "cell_type": "code",
   "execution_count": 19,
   "metadata": {},
   "outputs": [],
   "source": [
    "# mus_subject = mus_np[:,]\n",
    "# sigmas_subject = sigmas_np[:,0]\n",
    "# true_values_subject = true_values_np\n",
    "# binary_events_subject = binary_events_np\n",
    "# p_subject = p_collected[:,0] # Extracted probabilities\n",
    "\n",
    "\n",
    "# plt.figure(figsize=(8, 6))\n",
    "# plt.plot(mus_subject, label='Predicted $\\mu$', color='red')\n",
    "# plt.fill_between(range(len(mus_subject)), (mus_subject - 1.96 * sigmas_subject), (mus_subject + 1.96 * sigmas_subject), color='red', alpha=0.2, label='Uncertainty ($\\sigma$)')\n",
    "# plt.plot(true_values_subject, label='True Values', color='blue')\n",
    "\n",
    "# # Plotting the probability as a bar plot at the bottom\n",
    "# bar_height = p_subject* mus_subject.mean()  # Scaling factor for visibility\n",
    "# bar_bottom = np.min(true_values_subject) -.5   # Adjust bottom to avoid overlap\n",
    "# plt.bar(range(len(p_subject)), bar_height,  bottom=bar_bottom, color='gray', label='Event Pred. Probability', width=0.8)\n",
    "\n",
    "# for i, (value, event) in enumerate(zip(true_values_subject, binary_events_subject)):\n",
    "#     if event == 1:\n",
    "#         plt.plot(i, value, 'x', color='black', markersize=8, label='Event = 1' if i == 0 else \"\")\n",
    "\n",
    "# plt.xticks(range(len(binary_events_subject)))\n",
    "# plt.xlabel('Prediction Time Step')\n",
    "# plt.ylabel('Value')\n",
    "# plt.title('Model Predictions, True Values, and Probabilities')\n",
    "\n",
    "# # plt.axhline(y=threshold, color='gray', linestyle='--', linewidth=1, label='Threshold')\n",
    "\n",
    "# # Adjust y-axis limit to make space for the bar plot\n",
    "# plt.ylim([np.min(bar_bottom)-.5, np.max(true_values_subject) + 1.2])\n",
    "\n",
    "# # Legend\n",
    "# handles, labels = plt.gca().get_legend_handles_labels()\n",
    "# # Ensure unique labels\n",
    "# by_label = dict(zip(labels, handles))\n",
    "# plt.legend(by_label.values(), by_label.keys(), loc='upper left')\n",
    "\n",
    "# plt.tight_layout()\n",
    "# plt.show()\n"
   ]
  },
  {
   "cell_type": "code",
   "execution_count": null,
   "metadata": {},
   "outputs": [],
   "source": []
  }
 ],
 "metadata": {
  "kernelspec": {
   "display_name": "Python 3",
   "language": "python",
   "name": "python3"
  },
  "language_info": {
   "codemirror_mode": {
    "name": "ipython",
    "version": 3
   },
   "file_extension": ".py",
   "mimetype": "text/x-python",
   "name": "python",
   "nbconvert_exporter": "python",
   "pygments_lexer": "ipython3",
   "version": "3.11.4"
  }
 },
 "nbformat": 4,
 "nbformat_minor": 2
}
